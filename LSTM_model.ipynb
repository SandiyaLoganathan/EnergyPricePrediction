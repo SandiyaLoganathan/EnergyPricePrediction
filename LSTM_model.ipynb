{
 "cells": [
  {
   "cell_type": "code",
   "execution_count": 1,
   "id": "1ee97e2d",
   "metadata": {},
   "outputs": [],
   "source": [
    "import torch\n",
    "import torch.nn as nn\n",
    "import torch.optim as optim\n",
    "import torch.utils.data as data\n",
    "import matplotlib.pyplot as plt\n",
    "from sklearn.metrics import mean_squared_error, r2_score\n",
    "import pandas as pd\n",
    "import numpy as np\n",
    "import pickle as pkl\n",
    "import time"
   ]
  },
  {
   "cell_type": "code",
   "execution_count": 2,
   "id": "27bd59e6",
   "metadata": {},
   "outputs": [],
   "source": [
    " def create_lstm_dataset(time_series:pd.Series, lookback:int):\n",
    "    \"\"\"\n",
    "        Transform a time series into a prediction dataset\n",
    "        Input:\n",
    "            time_series: A numpy array of time series, first dimension is the time steps\n",
    "            lookback: Integer, Size of window for prediction\n",
    "        Output:\n",
    "            torch tensor(X) and torch tensor(Y) objects\n",
    "    \"\"\"\n",
    "    X, y = [], []\n",
    "    for i in range(len(time_series)-lookback):\n",
    "        feature = time_series[i:i+lookback]\n",
    "        target = time_series[i+1:i+lookback+1]\n",
    "        X.append(feature)\n",
    "        y.append(target)\n",
    "    return torch.tensor(X), torch.tensor(y)"
   ]
  },
  {
   "cell_type": "code",
   "execution_count": 3,
   "id": "7aa61a1a",
   "metadata": {},
   "outputs": [],
   "source": [
    "class AirModel(nn.Module, lookback:int=48):\n",
    "    \"\"\"\n",
    "        This a calss handle the LSTM model\n",
    "        Input:\n",
    "            pytorch Module\n",
    "        Output:\n",
    "            torch tensor(X) and torch tensor(Y) objects\n",
    "    \"\"\"    \n",
    "    def __init__(self):\n",
    "        super().__init__()\n",
    "        self.lstm = nn.LSTM(input_size=lookback, hidden_size=50, num_layers=1, batch_first=True)\n",
    "        self.linear = nn.Linear(50, lookback)\n",
    "    def forward(self, x):\n",
    "        x, _ = self.lstm(x)\n",
    "        x = self.linear(x)\n",
    "        return x"
   ]
  },
  {
   "cell_type": "markdown",
   "id": "ac76ae50",
   "metadata": {},
   "source": [
    "# LSTM Parameters"
   ]
  },
  {
   "cell_type": "code",
   "execution_count": 4,
   "id": "e3206868",
   "metadata": {},
   "outputs": [],
   "source": [
    "lookback = 48\n",
    "n_epochs = 200"
   ]
  },
  {
   "cell_type": "markdown",
   "id": "510d479f",
   "metadata": {},
   "source": [
    "# Load Data for Model training"
   ]
  },
  {
   "cell_type": "code",
   "execution_count": 5,
   "id": "557ee5f1",
   "metadata": {},
   "outputs": [],
   "source": [
    "data_df = pd.read_csv(\"../Data/pre_processed_final_data.csv\")\n",
    "data_df['date_time'] = pd.to_datetime(data_df['date_time'], infer_datetime_format=True, dayfirst=False)\n",
    "data_df.set_index('date_time', inplace=True)"
   ]
  },
  {
   "cell_type": "code",
   "execution_count": 6,
   "id": "a5013a31",
   "metadata": {},
   "outputs": [],
   "source": [
    "ts = data_df['System Sell Price(GBP/MWh)'].values.astype('float32')"
   ]
  },
  {
   "cell_type": "markdown",
   "id": "98c8d831",
   "metadata": {},
   "source": [
    "# Split the training and test dataset"
   ]
  },
  {
   "cell_type": "code",
   "execution_count": 7,
   "id": "5c4234ec",
   "metadata": {},
   "outputs": [],
   "source": [
    "train_size = data_df[:'2022-12-31'].shape[0]\n",
    "test_size  = data_df['2023-01-01':].shape[0]\n",
    "train = ts[:train_size]\n",
    "test = ts[train_size:]\n"
   ]
  },
  {
   "cell_type": "code",
   "execution_count": 8,
   "id": "9881b704",
   "metadata": {},
   "outputs": [
    {
     "name": "stdout",
     "output_type": "stream",
     "text": [
      "Trainning dataset size torch.Size([70080, 48]) torch.Size([70080, 48])\n",
      "Test dataset size torch.Size([9792, 48]) torch.Size([9792, 48])\n"
     ]
    },
    {
     "name": "stderr",
     "output_type": "stream",
     "text": [
      "/var/folders/94/prhb7cd55j501j6_x3p5llmw0000gn/T/ipykernel_4458/540755606.py:16: UserWarning: Creating a tensor from a list of numpy.ndarrays is extremely slow. Please consider converting the list to a single numpy.ndarray with numpy.array() before converting to a tensor. (Triggered internally at /private/var/folders/sy/f16zz6x50xz3113nwtb9bvq00000gp/T/abs_82vavna4yl/croot/pytorch_1686931843901/work/torch/csrc/utils/tensor_new.cpp:248.)\n",
      "  return torch.tensor(X), torch.tensor(y)\n"
     ]
    }
   ],
   "source": [
    "X_train, y_train = create_lstm_dataset(train, lookback=lookback)\n",
    "X_test, y_test = create_lstm_dataset(test, lookback=lookback)\n",
    "print(\"Trainning dataset size\", X_train.shape, y_train.shape)\n",
    "print(\"Test dataset size\", X_test.shape, y_test.shape)"
   ]
  },
  {
   "cell_type": "markdown",
   "id": "734367fa",
   "metadata": {},
   "source": [
    "# Create LSTM Model"
   ]
  },
  {
   "cell_type": "code",
   "execution_count": 9,
   "id": "ef89fc43",
   "metadata": {},
   "outputs": [],
   "source": [
    "model = AirModel(lookback)\n",
    "optimizer = optim.Adam(model.parameters())\n",
    "loss_fn = nn.MSELoss()\n",
    "loader = data.DataLoader(data.TensorDataset(X_train, y_train), shuffle=True, batch_size=8)"
   ]
  },
  {
   "cell_type": "markdown",
   "id": "7b241cfb",
   "metadata": {},
   "source": [
    "# Train LSTM Model"
   ]
  },
  {
   "cell_type": "code",
   "execution_count": 10,
   "id": "9de84975",
   "metadata": {},
   "outputs": [
    {
     "name": "stdout",
     "output_type": "stream",
     "text": [
      "Epoch 0: train RMSE 106.5613, test RMSE 60.6234 Cpu Time 18.8950\n",
      "Epoch 10: train RMSE 88.8057, test RMSE 54.3064 Cpu Time 210.8188\n",
      "Epoch 20: train RMSE 85.2178, test RMSE 51.5216 Cpu Time 214.8337\n",
      "Epoch 30: train RMSE 85.5440, test RMSE 50.5694 Cpu Time 241.7534\n",
      "Epoch 40: train RMSE 85.3499, test RMSE 53.1587 Cpu Time 236.5740\n",
      "Epoch 50: train RMSE 86.1833, test RMSE 51.8022 Cpu Time 243.5330\n",
      "Epoch 60: train RMSE 83.9912, test RMSE 52.8471 Cpu Time 253.7642\n",
      "Epoch 70: train RMSE 87.2119, test RMSE 56.3253 Cpu Time 240.9190\n",
      "Epoch 80: train RMSE 82.8591, test RMSE 52.2928 Cpu Time 222.9379\n",
      "Epoch 90: train RMSE 83.3570, test RMSE 55.5054 Cpu Time 226.4048\n",
      "Epoch 100: train RMSE 83.4518, test RMSE 51.9892 Cpu Time 228.8483\n",
      "Epoch 110: train RMSE 84.0689, test RMSE 55.9867 Cpu Time 227.3814\n",
      "Epoch 120: train RMSE 82.7421, test RMSE 54.6576 Cpu Time 259.6184\n",
      "Epoch 130: train RMSE 83.9816, test RMSE 56.3286 Cpu Time 3671.7618\n",
      "Epoch 140: train RMSE 82.0967, test RMSE 54.4354 Cpu Time 244.9310\n",
      "Epoch 150: train RMSE 82.0229, test RMSE 52.6009 Cpu Time 284.6740\n",
      "Epoch 160: train RMSE 81.1259, test RMSE 52.3560 Cpu Time 263.8478\n",
      "Epoch 170: train RMSE 83.4916, test RMSE 51.6720 Cpu Time 246.7913\n",
      "Epoch 180: train RMSE 82.1027, test RMSE 52.0976 Cpu Time 246.1332\n",
      "Epoch 190: train RMSE 84.2397, test RMSE 51.0119 Cpu Time 245.8656\n"
     ]
    }
   ],
   "source": [
    "start_time = time.time()\n",
    "for epoch in range(n_epochs):\n",
    "    \n",
    "    model.train()\n",
    "    for X_batch, y_batch in loader:\n",
    "        y_pred = model(X_batch)\n",
    "        loss = loss_fn(y_pred, y_batch)\n",
    "        optimizer.zero_grad()\n",
    "        loss.backward()\n",
    "        optimizer.step()\n",
    "    # Validation\n",
    "    if epoch % 10 != 0:\n",
    "        continue\n",
    "    model.eval()\n",
    "    with torch.no_grad():\n",
    "        y_pred = model(X_train)\n",
    "        train_rmse = np.sqrt(loss_fn(y_pred, y_train))\n",
    "        y_pred = model(X_test)\n",
    "        test_rmse = np.sqrt(loss_fn(y_pred, y_test))\n",
    "        end_time = time.time()\n",
    "        elapsed_time = end_time - start_time\n",
    "        start_time = end_time\n",
    "    print(\"Epoch %d: train RMSE %.4f, test RMSE %.4f Cpu Time %.4f\" % (epoch, train_rmse, test_rmse, elapsed_time))"
   ]
  },
  {
   "cell_type": "markdown",
   "id": "87f8662a",
   "metadata": {},
   "source": [
    "# Plot LSTM Prediction"
   ]
  },
  {
   "cell_type": "code",
   "execution_count": 11,
   "id": "ec3fd59d",
   "metadata": {},
   "outputs": [
    {
     "data": {
      "image/png": "[encoded data removed]",
      "text/plain": [
       "<Figure size 640x480 with 1 Axes>"
      ]
     },
     "metadata": {},
     "output_type": "display_data"
    },
    {
     "data": {
      "text/plain": [
       "<Figure size 640x480 with 0 Axes>"
      ]
     },
     "metadata": {},
     "output_type": "display_data"
    }
   ],
   "source": [
    "with torch.no_grad():\n",
    "    # shift train predictions for plotting\n",
    "    train_plot = np.ones_like(ts) * np.nan\n",
    "    train_pred = model(X_train)[:, -1 :].flatten()\n",
    "    test_pred  = model(X_test)[:, -1 :].flatten()\n",
    "    train_plot[lookback:train_size] = train_pred\n",
    "    # shift test predictions for plotting\n",
    "    test_plot = np.ones_like(ts) * np.nan\n",
    "    test_plot[train_size+lookback:len(ts)] = test_pred\n",
    "\n",
    "# plot\n",
    "plt.plot(ts, c='b',label='Original')\n",
    "plt.plot(train_plot, c='r',label='pred_train')\n",
    "plt.plot(test_plot, c='g', label='pred_test')\n",
    "plt.legend(loc='best')\n",
    "# plt.show()\n",
    "plt.savefig(\"../Output/LSTM_pred.png\")"
   ]
  },
  {
   "cell_type": "markdown",
   "id": "27012faf",
   "metadata": {},
   "source": [
    "# Save LSTM Model"
   ]
  },
  {
   "cell_type": "code",
   "execution_count": 12,
   "id": "ddb4cd93",
   "metadata": {},
   "outputs": [],
   "source": [
    "with open(\"../Models/LSTM_model.pkl\", mode='wb') as file:\n",
    "    pkl.dump(model, file)\n",
    "    file.close()"
   ]
  },
  {
   "cell_type": "markdown",
   "id": "c46f20d9",
   "metadata": {},
   "source": [
    "# Calculate MSE & R Square"
   ]
  },
  {
   "cell_type": "code",
   "execution_count": 14,
   "id": "26c000b4",
   "metadata": {},
   "outputs": [
    {
     "name": "stdout",
     "output_type": "stream",
     "text": [
      "MSE 4687.809\n",
      "R2 -0.9026425448194235\n"
     ]
    }
   ],
   "source": [
    "mse = mean_squared_error(test_pred, test[:-lookback]) \n",
    "r2 = r2_score(test_pred, test[:-lookback])\n",
    "print(\"MSE\", mse)\n",
    "print(\"R2\", r2)"
   ]
  },
  {
   "cell_type": "code",
   "execution_count": null,
   "id": "0c7aadb2",
   "metadata": {},
   "outputs": [],
   "source": []
  }
 ],
 "metadata": {
  "kernelspec": {
   "display_name": "Python 3 (ipykernel)",
   "language": "python",
   "name": "python3"
  },
  "language_info": {
   "codemirror_mode": {
    "name": "ipython",
    "version": 3
   },
   "file_extension": ".py",
   "mimetype": "text/x-python",
   "name": "python",
   "nbconvert_exporter": "python",
   "pygments_lexer": "ipython3",
   "version": "3.11.4"
  }
 },
 "nbformat": 4,
 "nbformat_minor": 5
}
